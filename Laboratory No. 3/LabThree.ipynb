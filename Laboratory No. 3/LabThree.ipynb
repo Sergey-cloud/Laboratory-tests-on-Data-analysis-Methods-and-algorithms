{
 "cells": [
  {
   "cell_type": "code",
   "execution_count": 1,
   "metadata": {},
   "outputs": [],
   "source": [
    "import pandas as pd\n",
    "from scapy.all import *\n",
    "import plotly\n",
    "import math"
   ]
  },
  {
   "cell_type": "markdown",
   "metadata": {},
   "source": [
    "Шаг 1. Читаем полученный файл с перехваченными пакетами:"
   ]
  },
  {
   "cell_type": "code",
   "execution_count": 2,
   "metadata": {},
   "outputs": [],
   "source": [
    "packets = rdpcap(\"traff.pcap\")"
   ]
  },
  {
   "cell_type": "markdown",
   "metadata": {},
   "source": [
    "Шаг 2. Ищем пакеты, в которых использовался UDP протокол:"
   ]
  },
  {
   "cell_type": "code",
   "execution_count": 3,
   "metadata": {},
   "outputs": [
    {
     "name": "stderr",
     "output_type": "stream",
     "text": [
      "<ipython-input-3-095eb5127fb7>:8: DeprecationWarning: an integer is required (got type EDecimal).  Implicit conversion to integers using __int__ is deprecated, and may be removed in a future version of Python.\n",
      "  pktTime = datetime.fromtimestamp(pkt.time)\n"
     ]
    }
   ],
   "source": [
    "pktBytes = []\n",
    "pktTimes = []\n",
    "\n",
    "for pkt in packets:\n",
    "    if UDP in pkt:\n",
    "        try:\n",
    "            pktBytes.append(pkt[UDP].len)\n",
    "            pktTime = datetime.fromtimestamp(pkt.time)\n",
    "            pktTimes.append(pktTime.strftime(\"%H:%M:%S.%f\"))\n",
    "        except:\n",
    "            pass"
   ]
  },
  {
   "cell_type": "markdown",
   "metadata": {},
   "source": [
    "Шаг 3. Строим график зависимости количества отправленных байтов от времени:"
   ]
  },
  {
   "cell_type": "code",
   "execution_count": 4,
   "metadata": {},
   "outputs": [
    {
     "data": {
      "text/plain": [
       "'temp-plot.html'"
      ]
     },
     "execution_count": 4,
     "metadata": {},
     "output_type": "execute_result"
    }
   ],
   "source": [
    "import random\n",
    "bytes = pd.Series(pktBytes).astype(int)\n",
    "times = pd.to_datetime(pd.Series(pktTimes).astype(str),  errors = \"coerce\")\n",
    "df  = pd.DataFrame({\"Times\":times, \"Bytes\": bytes})\n",
    "df = df.set_index(\"Times\")\n",
    "df2 = df.resample(\"1S\").sum()\n",
    "\n",
    "plotly.offline.plot({\n",
    "    \"data\":[plotly.graph_objs.Scatter(x = df2.index, y = df2[\"Bytes\"])],\n",
    "    \"layout\":plotly.graph_objs.Layout(title = \"Распределение пакетов UDP \",\n",
    "    xaxis = dict(title = \"Время\"),\n",
    "    yaxis = dict(title = \"Байты\"))\n",
    "})"
   ]
  },
  {
   "cell_type": "markdown",
   "metadata": {},
   "source": [
    "Шаг 4. Проверяем справедливость гипотезы с помощью критерия Колмогорова-Смирнова:"
   ]
  },
  {
   "cell_type": "code",
   "execution_count": 5,
   "metadata": {},
   "outputs": [
    {
     "name": "stdout",
     "output_type": "stream",
     "text": [
      "Максимальная разница эмпирических функций распределения =  0.14889334802248677\n",
      "Статистика критерия =  1.3482866108503488\n",
      "Уровень значимости равен =  0.05\n",
      "Квантиль распределения Колмогорова для выборок больше 20 =  1.36\n",
      "Статистика критерия не превышает квантиль распределения Колмогорова\n",
      "Гипотеза справедлива для данного уровня значимости\n"
     ]
    }
   ],
   "source": [
    "byteCount = []\n",
    "mean = 0\n",
    "\n",
    "for i in range(len(df2)):\n",
    "    byteCount.append(df2[\"Bytes\"][i])\n",
    "    mean += byteCount[i]\n",
    "mean /= len(df2)\n",
    "byteCountTheoria = []\n",
    "\n",
    "for i in range(len(df2)):\n",
    "    byteCountTheoria.append(mean)\n",
    "byteCountNak = []\n",
    "\n",
    "for i in range(len(df2)):\n",
    "    if i == 0:\n",
    "        byteCountNak.append(byteCount[i])\n",
    "    else :\n",
    "        byteCountNak.append(byteCount[i] + byteCountNak[i - 1])\n",
    "\n",
    "byteCountTherNak = []\n",
    "for i in range(len(df2)):\n",
    "    if i == 0:\n",
    "        byteCountTherNak.append(byteCountTheoria[i])\n",
    "    else :\n",
    "        byteCountTherNak.append(byteCountTheoria[i] + byteCountTherNak[i - 1])\n",
    "        \n",
    "byteCountPercent = []\n",
    "for i in range(len(df2)):\n",
    "    byteCountPercent.append(byteCountNak[i] / byteCountNak[len(df2) - 1])\n",
    "    \n",
    "byteCountTheorPercent = []\n",
    "for i in range(len(df2)):\n",
    "    byteCountTheorPercent.append(byteCountTherNak[i] / byteCountTherNak[len(df2) - 1])\n",
    "    \n",
    "byteCountPercentDiff = []\n",
    "for i in range(len(df2)):\n",
    "    byteCountPercentDiff.append(abs(byteCountPercent[i] - byteCountTheorPercent[i]))\n",
    "    \n",
    "maxDif = max(byteCountPercentDiff)\n",
    "realTotal = byteCountNak[len(df2) - 1]\n",
    "teorTotal = byteCountTherNak[len(df2) - 1]\n",
    "criteriaManual = maxDif\n",
    "pval = maxDif * (len(df2)) ** 0.5\n",
    "print(\"Максимальная разница эмпирических функций распределения = \", criteriaManual)\n",
    "print(\"Статистика критерия = \", pval)\n",
    "alpha = 0.05\n",
    "alphaCritical = 1.36\n",
    "print(\"Уровень значимости равен = \", alpha)\n",
    "print(\"Квантиль распределения Колмогорова для выборок больше 20 = \", alphaCritical)\n",
    "\n",
    "if alphaCritical < pval :\n",
    "    print(\"Статистика критерия превышает квантиль распределения Колмогорова\")\n",
    "    print(\"Гипотеза не справедлива\")\n",
    "else:\n",
    "    print(\"Статистика критерия не превышает квантиль распределения Колмогорова\")\n",
    "    print(\"Гипотеза справедлива для данного уровня значимости\")"
   ]
  }
 ],
 "metadata": {
  "kernelspec": {
   "display_name": "Python 3",
   "language": "python",
   "name": "python3"
  },
  "language_info": {
   "codemirror_mode": {
    "name": "ipython",
    "version": 3
   },
   "file_extension": ".py",
   "mimetype": "text/x-python",
   "name": "python",
   "nbconvert_exporter": "python",
   "pygments_lexer": "ipython3",
   "version": "3.8.5"
  }
 },
 "nbformat": 4,
 "nbformat_minor": 4
}
